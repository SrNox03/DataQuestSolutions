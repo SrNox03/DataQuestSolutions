{
 "cells": [
  {
   "cell_type": "markdown",
   "metadata": {},
   "source": [
    "# 1º Guided Project: Birth Dates in the United States"
   ]
  },
  {
   "cell_type": "markdown",
   "metadata": {},
   "source": [
    "In this project, we going to work with the data of US births between 1994 to 2003 contained in the file \"births.csv\". using the basic function we going convert the data into a set of information readable for further data exploration."
   ]
  },
  {
   "cell_type": "code",
   "execution_count": 4,
   "metadata": {},
   "outputs": [
    {
     "data": {
      "text/plain": [
       "['year,month,date_of_month,day_of_week,births',\n",
       " '1994,1,1,6,8096',\n",
       " '1994,1,2,7,7772',\n",
       " '1994,1,3,1,10142',\n",
       " '1994,1,4,2,11248',\n",
       " '1994,1,5,3,11053',\n",
       " '1994,1,6,4,11406',\n",
       " '1994,1,7,5,11251',\n",
       " '1994,1,8,6,8653',\n",
       " '1994,1,9,7,7910']"
      ]
     },
     "execution_count": 4,
     "metadata": {},
     "output_type": "execute_result"
    }
   ],
   "source": [
    "#Open the file and read read it into a variable\n",
    "f = open('US_births_1994-2003_CDC_NCHS.csv', 'r')\n",
    "raw_births_data = f.read() \n",
    "raw_births_data = raw_births_data.split('\\n')\n",
    "#print the raw_births_data only the firts part.\n",
    "raw_births_data[:10]"
   ]
  },
  {
   "cell_type": "code",
   "execution_count": 11,
   "metadata": {},
   "outputs": [],
   "source": [
    "# Lets create a functiona that takes the name of the CSV file as an argument\n",
    "# and return the data by columms without the header row. (convert all the elements into strings)\n",
    "\n",
    "def read_csv(csv):\n",
    "    file = open(csv, 'r')\n",
    "    file = file.read()\n",
    "    file = file.split('\\n')\n",
    "    string_list = file[1:-1]\n",
    "    final_list = []\n",
    "    \n",
    "    for i in string_list:\n",
    "        int_fields = []\n",
    "        string_fields = i.split(',')\n",
    "        \n",
    "        for i in string_fields:\n",
    "            int_fields.append(int(i))\n",
    "            \n",
    "        final_list.append(int_fields)\n",
    "        \n",
    "    return final_list\n",
    "cdc_list = read_csv('US_births_1994-2003_CDC_NCHS.csv')"
   ]
  },
  {
   "cell_type": "code",
   "execution_count": 17,
   "metadata": {},
   "outputs": [
    {
     "data": {
      "text/plain": [
       "{1: 3232517,\n",
       " 2: 3018140,\n",
       " 3: 3322069,\n",
       " 4: 3185314,\n",
       " 5: 3350907,\n",
       " 6: 3296530,\n",
       " 7: 3498783,\n",
       " 8: 3525858,\n",
       " 9: 3439698,\n",
       " 10: 3378814,\n",
       " 11: 3171647,\n",
       " 12: 3289486}"
      ]
     },
     "execution_count": 17,
     "metadata": {},
     "output_type": "execute_result"
    }
   ],
   "source": [
    "# Now the data its sorted and converted into integers, lest create a function to \n",
    "# get the total births by month\n",
    "\n",
    "def month_births(list_of_list):\n",
    "    births_per_month = {}\n",
    "    \n",
    "    for i in list_of_list:\n",
    "        month = i[1]\n",
    "        birth = i[4]\n",
    "        \n",
    "        if month in births_per_month:\n",
    "            births_per_month[month] = births_per_month[month] + birth\n",
    "        else:\n",
    "            births_per_month[month] = birth\n",
    "            \n",
    "    return births_per_month\n",
    "\n",
    "month_births(cdc_list)"
   ]
  },
  {
   "cell_type": "code",
   "execution_count": 19,
   "metadata": {},
   "outputs": [
    {
     "data": {
      "text/plain": [
       "{6: 4562111,\n",
       " 7: 4079723,\n",
       " 1: 5789166,\n",
       " 2: 6446196,\n",
       " 3: 6310481,\n",
       " 4: 6288429,\n",
       " 5: 6233657}"
      ]
     },
     "execution_count": 19,
     "metadata": {},
     "output_type": "execute_result"
    }
   ],
   "source": [
    "# lest create a function to get the total births by day (almost the same function than before)\n",
    "\n",
    "def dow_births(list_of_list):\n",
    "    births_per_dow = {}\n",
    "    \n",
    "    for i in list_of_list:\n",
    "        birth = i[4]\n",
    "        dow = i[3]\n",
    "        \n",
    "        if dow in births_per_dow:\n",
    "            births_per_dow[dow] = births_per_dow[dow] + birth\n",
    "        else: \n",
    "            births_per_dow[dow] = birth\n",
    "            \n",
    "    return births_per_dow\n",
    "\n",
    "dow_births(cdc_list)"
   ]
  },
  {
   "cell_type": "code",
   "execution_count": 26,
   "metadata": {},
   "outputs": [
    {
     "data": {
      "text/plain": [
       "{6: 4562111,\n",
       " 7: 4079723,\n",
       " 1: 5789166,\n",
       " 2: 6446196,\n",
       " 3: 6310481,\n",
       " 4: 6288429,\n",
       " 5: 6233657}"
      ]
     },
     "execution_count": 26,
     "metadata": {},
     "output_type": "execute_result"
    }
   ],
   "source": [
    "# the two functions are almost equal, lets generate a function that can \n",
    "# work for any columms (dow, year, dom, month)\n",
    "#Columm = 0 --> year\n",
    "#Columm = 1 --> month\n",
    "#Columm = 2 --> day of the month\n",
    "#Columm = 3 --> day of the week\n",
    "\n",
    "\n",
    "def cal_counts(list_of_list, index):\n",
    "    data_dic = {}\n",
    "    \n",
    "    for i in list_of_list:\n",
    "        columm = i[index]\n",
    "        births = i[4]\n",
    "        \n",
    "        if columm in data_dic:\n",
    "            data_dic[columm] = data_dic[columm] + births\n",
    "        else: \n",
    "            data_dic[columm] = births\n",
    "            \n",
    "    return data_dic\n",
    "\n",
    "cal_counts(cdc_list, 3)"
   ]
  },
  {
   "cell_type": "code",
   "execution_count": null,
   "metadata": {},
   "outputs": [],
   "source": []
  }
 ],
 "metadata": {
  "kernelspec": {
   "display_name": "Python 3",
   "language": "python",
   "name": "python3"
  },
  "language_info": {
   "codemirror_mode": {
    "name": "ipython",
    "version": 3
   },
   "file_extension": ".py",
   "mimetype": "text/x-python",
   "name": "python",
   "nbconvert_exporter": "python",
   "pygments_lexer": "ipython3",
   "version": "3.6.6"
  }
 },
 "nbformat": 4,
 "nbformat_minor": 2
}
